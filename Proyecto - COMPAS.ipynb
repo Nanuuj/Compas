{
 "cells": [
  {
   "cell_type": "code",
   "execution_count": 1,
   "id": "70cfcb16",
   "metadata": {},
   "outputs": [],
   "source": [
    "# Introducción:Cargamos y/o importamos las librerías y recursos que vamos a utilizar.\n",
    "\n",
    "import pandas as pd\n",
    "import numpy as np\n",
    "import seaborn as sns"
   ]
  },
  {
   "cell_type": "code",
   "execution_count": 3,
   "id": "857138f0",
   "metadata": {},
   "outputs": [],
   "source": [
    "# 1 - Cargar los datos y realizar un análisis exploratorio y una evaluación de la calidad de los datos necesarios para el resto del caso. Específicamente, evaluar la integridad, validez y actualidad de los datos y proponer estrategias de mitigación de los posibles problemas encontrados.\n",
    "\n",
    "df = pd.read_csv('compas-scores.csv')"
   ]
  },
  {
   "cell_type": "code",
   "execution_count": 5,
   "id": "67c20c9c",
   "metadata": {},
   "outputs": [
    {
     "data": {
      "text/html": [
       "<div>\n",
       "<style scoped>\n",
       "    .dataframe tbody tr th:only-of-type {\n",
       "        vertical-align: middle;\n",
       "    }\n",
       "\n",
       "    .dataframe tbody tr th {\n",
       "        vertical-align: top;\n",
       "    }\n",
       "\n",
       "    .dataframe thead th {\n",
       "        text-align: right;\n",
       "    }\n",
       "</style>\n",
       "<table border=\"1\" class=\"dataframe\">\n",
       "  <thead>\n",
       "    <tr style=\"text-align: right;\">\n",
       "      <th></th>\n",
       "      <th>id</th>\n",
       "      <th>name</th>\n",
       "      <th>first</th>\n",
       "      <th>last</th>\n",
       "      <th>compas_screening_date</th>\n",
       "      <th>sex</th>\n",
       "      <th>dob</th>\n",
       "      <th>age</th>\n",
       "      <th>age_cat</th>\n",
       "      <th>race</th>\n",
       "      <th>...</th>\n",
       "      <th>vr_offense_date</th>\n",
       "      <th>vr_charge_desc</th>\n",
       "      <th>v_type_of_assessment</th>\n",
       "      <th>v_decile_score</th>\n",
       "      <th>v_score_text</th>\n",
       "      <th>v_screening_date</th>\n",
       "      <th>type_of_assessment</th>\n",
       "      <th>decile_score.1</th>\n",
       "      <th>score_text</th>\n",
       "      <th>screening_date</th>\n",
       "    </tr>\n",
       "  </thead>\n",
       "  <tbody>\n",
       "    <tr>\n",
       "      <th>0</th>\n",
       "      <td>1</td>\n",
       "      <td>miguel hernandez</td>\n",
       "      <td>miguel</td>\n",
       "      <td>hernandez</td>\n",
       "      <td>2013-08-14</td>\n",
       "      <td>Male</td>\n",
       "      <td>1947-04-18</td>\n",
       "      <td>69</td>\n",
       "      <td>Greater than 45</td>\n",
       "      <td>Other</td>\n",
       "      <td>...</td>\n",
       "      <td>NaN</td>\n",
       "      <td>NaN</td>\n",
       "      <td>Risk of Violence</td>\n",
       "      <td>1</td>\n",
       "      <td>Low</td>\n",
       "      <td>2013-08-14</td>\n",
       "      <td>Risk of Recidivism</td>\n",
       "      <td>1</td>\n",
       "      <td>Low</td>\n",
       "      <td>2013-08-14</td>\n",
       "    </tr>\n",
       "    <tr>\n",
       "      <th>1</th>\n",
       "      <td>2</td>\n",
       "      <td>michael ryan</td>\n",
       "      <td>michael</td>\n",
       "      <td>ryan</td>\n",
       "      <td>2014-12-31</td>\n",
       "      <td>Male</td>\n",
       "      <td>1985-02-06</td>\n",
       "      <td>31</td>\n",
       "      <td>25 - 45</td>\n",
       "      <td>Caucasian</td>\n",
       "      <td>...</td>\n",
       "      <td>NaN</td>\n",
       "      <td>NaN</td>\n",
       "      <td>Risk of Violence</td>\n",
       "      <td>2</td>\n",
       "      <td>Low</td>\n",
       "      <td>2014-12-31</td>\n",
       "      <td>Risk of Recidivism</td>\n",
       "      <td>5</td>\n",
       "      <td>Medium</td>\n",
       "      <td>2014-12-31</td>\n",
       "    </tr>\n",
       "    <tr>\n",
       "      <th>2</th>\n",
       "      <td>3</td>\n",
       "      <td>kevon dixon</td>\n",
       "      <td>kevon</td>\n",
       "      <td>dixon</td>\n",
       "      <td>2013-01-27</td>\n",
       "      <td>Male</td>\n",
       "      <td>1982-01-22</td>\n",
       "      <td>34</td>\n",
       "      <td>25 - 45</td>\n",
       "      <td>African-American</td>\n",
       "      <td>...</td>\n",
       "      <td>2013-07-05</td>\n",
       "      <td>Felony Battery (Dom Strang)</td>\n",
       "      <td>Risk of Violence</td>\n",
       "      <td>1</td>\n",
       "      <td>Low</td>\n",
       "      <td>2013-01-27</td>\n",
       "      <td>Risk of Recidivism</td>\n",
       "      <td>3</td>\n",
       "      <td>Low</td>\n",
       "      <td>2013-01-27</td>\n",
       "    </tr>\n",
       "    <tr>\n",
       "      <th>3</th>\n",
       "      <td>4</td>\n",
       "      <td>ed philo</td>\n",
       "      <td>ed</td>\n",
       "      <td>philo</td>\n",
       "      <td>2013-04-14</td>\n",
       "      <td>Male</td>\n",
       "      <td>1991-05-14</td>\n",
       "      <td>24</td>\n",
       "      <td>Less than 25</td>\n",
       "      <td>African-American</td>\n",
       "      <td>...</td>\n",
       "      <td>NaN</td>\n",
       "      <td>NaN</td>\n",
       "      <td>Risk of Violence</td>\n",
       "      <td>3</td>\n",
       "      <td>Low</td>\n",
       "      <td>2013-04-14</td>\n",
       "      <td>Risk of Recidivism</td>\n",
       "      <td>4</td>\n",
       "      <td>Low</td>\n",
       "      <td>2013-04-14</td>\n",
       "    </tr>\n",
       "    <tr>\n",
       "      <th>4</th>\n",
       "      <td>5</td>\n",
       "      <td>marcu brown</td>\n",
       "      <td>marcu</td>\n",
       "      <td>brown</td>\n",
       "      <td>2013-01-13</td>\n",
       "      <td>Male</td>\n",
       "      <td>1993-01-21</td>\n",
       "      <td>23</td>\n",
       "      <td>Less than 25</td>\n",
       "      <td>African-American</td>\n",
       "      <td>...</td>\n",
       "      <td>NaN</td>\n",
       "      <td>NaN</td>\n",
       "      <td>Risk of Violence</td>\n",
       "      <td>6</td>\n",
       "      <td>Medium</td>\n",
       "      <td>2013-01-13</td>\n",
       "      <td>Risk of Recidivism</td>\n",
       "      <td>8</td>\n",
       "      <td>High</td>\n",
       "      <td>2013-01-13</td>\n",
       "    </tr>\n",
       "  </tbody>\n",
       "</table>\n",
       "<p>5 rows × 47 columns</p>\n",
       "</div>"
      ],
      "text/plain": [
       "   id              name    first       last compas_screening_date   sex  \\\n",
       "0   1  miguel hernandez   miguel  hernandez            2013-08-14  Male   \n",
       "1   2      michael ryan  michael       ryan            2014-12-31  Male   \n",
       "2   3       kevon dixon    kevon      dixon            2013-01-27  Male   \n",
       "3   4          ed philo       ed      philo            2013-04-14  Male   \n",
       "4   5       marcu brown    marcu      brown            2013-01-13  Male   \n",
       "\n",
       "          dob  age          age_cat              race  ...  vr_offense_date  \\\n",
       "0  1947-04-18   69  Greater than 45             Other  ...              NaN   \n",
       "1  1985-02-06   31          25 - 45         Caucasian  ...              NaN   \n",
       "2  1982-01-22   34          25 - 45  African-American  ...       2013-07-05   \n",
       "3  1991-05-14   24     Less than 25  African-American  ...              NaN   \n",
       "4  1993-01-21   23     Less than 25  African-American  ...              NaN   \n",
       "\n",
       "                vr_charge_desc  v_type_of_assessment  v_decile_score  \\\n",
       "0                          NaN      Risk of Violence               1   \n",
       "1                          NaN      Risk of Violence               2   \n",
       "2  Felony Battery (Dom Strang)      Risk of Violence               1   \n",
       "3                          NaN      Risk of Violence               3   \n",
       "4                          NaN      Risk of Violence               6   \n",
       "\n",
       "   v_score_text  v_screening_date  type_of_assessment decile_score.1  \\\n",
       "0           Low        2013-08-14  Risk of Recidivism              1   \n",
       "1           Low        2014-12-31  Risk of Recidivism              5   \n",
       "2           Low        2013-01-27  Risk of Recidivism              3   \n",
       "3           Low        2013-04-14  Risk of Recidivism              4   \n",
       "4        Medium        2013-01-13  Risk of Recidivism              8   \n",
       "\n",
       "  score_text screening_date  \n",
       "0        Low     2013-08-14  \n",
       "1     Medium     2014-12-31  \n",
       "2        Low     2013-01-27  \n",
       "3        Low     2013-04-14  \n",
       "4       High     2013-01-13  \n",
       "\n",
       "[5 rows x 47 columns]"
      ]
     },
     "execution_count": 5,
     "metadata": {},
     "output_type": "execute_result"
    }
   ],
   "source": [
    "# Revisamos que se ha cargado correctamente. \n",
    "\n",
    "df.head(5)"
   ]
  },
  {
   "cell_type": "code",
   "execution_count": 6,
   "id": "eddf910c",
   "metadata": {},
   "outputs": [],
   "source": [
    "# Vemos que hay muchas columnas, por tanto, vamos a utilizar las necesarias para el trabajo.\n",
    "# Haremos una copia, que será donde trabajaremos, para no ensuciar el df principal.\n",
    "\n",
    "df_trabajo = df[['name', 'age', 'sex', 'race', 'compas_screening_date', 'decile_score','v_decile_score', 'is_recid', 'r_offense_date', 'is_violent_recid', 'vr_offense_date', 'priors_count']].copy()"
   ]
  },
  {
   "cell_type": "code",
   "execution_count": 8,
   "id": "0e2397a7",
   "metadata": {},
   "outputs": [
    {
     "data": {
      "text/html": [
       "<div>\n",
       "<style scoped>\n",
       "    .dataframe tbody tr th:only-of-type {\n",
       "        vertical-align: middle;\n",
       "    }\n",
       "\n",
       "    .dataframe tbody tr th {\n",
       "        vertical-align: top;\n",
       "    }\n",
       "\n",
       "    .dataframe thead th {\n",
       "        text-align: right;\n",
       "    }\n",
       "</style>\n",
       "<table border=\"1\" class=\"dataframe\">\n",
       "  <thead>\n",
       "    <tr style=\"text-align: right;\">\n",
       "      <th></th>\n",
       "      <th>name</th>\n",
       "      <th>age</th>\n",
       "      <th>sex</th>\n",
       "      <th>race</th>\n",
       "      <th>compas_screening_date</th>\n",
       "      <th>decile_score</th>\n",
       "      <th>v_decile_score</th>\n",
       "      <th>is_recid</th>\n",
       "      <th>r_offense_date</th>\n",
       "      <th>is_violent_recid</th>\n",
       "      <th>vr_offense_date</th>\n",
       "      <th>priors_count</th>\n",
       "    </tr>\n",
       "  </thead>\n",
       "  <tbody>\n",
       "    <tr>\n",
       "      <th>0</th>\n",
       "      <td>miguel hernandez</td>\n",
       "      <td>69</td>\n",
       "      <td>Male</td>\n",
       "      <td>Other</td>\n",
       "      <td>2013-08-14</td>\n",
       "      <td>1</td>\n",
       "      <td>1</td>\n",
       "      <td>0</td>\n",
       "      <td>NaN</td>\n",
       "      <td>0</td>\n",
       "      <td>NaN</td>\n",
       "      <td>0</td>\n",
       "    </tr>\n",
       "    <tr>\n",
       "      <th>1</th>\n",
       "      <td>michael ryan</td>\n",
       "      <td>31</td>\n",
       "      <td>Male</td>\n",
       "      <td>Caucasian</td>\n",
       "      <td>2014-12-31</td>\n",
       "      <td>5</td>\n",
       "      <td>2</td>\n",
       "      <td>-1</td>\n",
       "      <td>NaN</td>\n",
       "      <td>0</td>\n",
       "      <td>NaN</td>\n",
       "      <td>0</td>\n",
       "    </tr>\n",
       "    <tr>\n",
       "      <th>2</th>\n",
       "      <td>kevon dixon</td>\n",
       "      <td>34</td>\n",
       "      <td>Male</td>\n",
       "      <td>African-American</td>\n",
       "      <td>2013-01-27</td>\n",
       "      <td>3</td>\n",
       "      <td>1</td>\n",
       "      <td>1</td>\n",
       "      <td>2013-07-05</td>\n",
       "      <td>1</td>\n",
       "      <td>2013-07-05</td>\n",
       "      <td>0</td>\n",
       "    </tr>\n",
       "    <tr>\n",
       "      <th>3</th>\n",
       "      <td>ed philo</td>\n",
       "      <td>24</td>\n",
       "      <td>Male</td>\n",
       "      <td>African-American</td>\n",
       "      <td>2013-04-14</td>\n",
       "      <td>4</td>\n",
       "      <td>3</td>\n",
       "      <td>1</td>\n",
       "      <td>2013-06-16</td>\n",
       "      <td>0</td>\n",
       "      <td>NaN</td>\n",
       "      <td>4</td>\n",
       "    </tr>\n",
       "    <tr>\n",
       "      <th>4</th>\n",
       "      <td>marcu brown</td>\n",
       "      <td>23</td>\n",
       "      <td>Male</td>\n",
       "      <td>African-American</td>\n",
       "      <td>2013-01-13</td>\n",
       "      <td>8</td>\n",
       "      <td>6</td>\n",
       "      <td>0</td>\n",
       "      <td>NaN</td>\n",
       "      <td>0</td>\n",
       "      <td>NaN</td>\n",
       "      <td>1</td>\n",
       "    </tr>\n",
       "  </tbody>\n",
       "</table>\n",
       "</div>"
      ],
      "text/plain": [
       "               name  age   sex              race compas_screening_date  \\\n",
       "0  miguel hernandez   69  Male             Other            2013-08-14   \n",
       "1      michael ryan   31  Male         Caucasian            2014-12-31   \n",
       "2       kevon dixon   34  Male  African-American            2013-01-27   \n",
       "3          ed philo   24  Male  African-American            2013-04-14   \n",
       "4       marcu brown   23  Male  African-American            2013-01-13   \n",
       "\n",
       "   decile_score  v_decile_score  is_recid r_offense_date  is_violent_recid  \\\n",
       "0             1               1         0            NaN                 0   \n",
       "1             5               2        -1            NaN                 0   \n",
       "2             3               1         1     2013-07-05                 1   \n",
       "3             4               3         1     2013-06-16                 0   \n",
       "4             8               6         0            NaN                 0   \n",
       "\n",
       "  vr_offense_date  priors_count  \n",
       "0             NaN             0  \n",
       "1             NaN             0  \n",
       "2      2013-07-05             0  \n",
       "3             NaN             4  \n",
       "4             NaN             1  "
      ]
     },
     "execution_count": 8,
     "metadata": {},
     "output_type": "execute_result"
    }
   ],
   "source": [
    "# Revisamos que se ha realizado.\n",
    "\n",
    "df_trabajo.head()\n"
   ]
  },
  {
   "cell_type": "code",
   "execution_count": 9,
   "id": "e7ad2894",
   "metadata": {},
   "outputs": [
    {
     "name": "stdout",
     "output_type": "stream",
     "text": [
      "<class 'pandas.core.frame.DataFrame'>\n",
      "RangeIndex: 11757 entries, 0 to 11756\n",
      "Data columns (total 12 columns):\n",
      " #   Column                 Non-Null Count  Dtype \n",
      "---  ------                 --------------  ----- \n",
      " 0   name                   11757 non-null  object\n",
      " 1   age                    11757 non-null  int64 \n",
      " 2   sex                    11757 non-null  object\n",
      " 3   race                   11757 non-null  object\n",
      " 4   compas_screening_date  11757 non-null  object\n",
      " 5   decile_score           11757 non-null  int64 \n",
      " 6   v_decile_score         11757 non-null  int64 \n",
      " 7   is_recid               11757 non-null  int64 \n",
      " 8   r_offense_date         3703 non-null   object\n",
      " 9   is_violent_recid       11757 non-null  int64 \n",
      " 10  vr_offense_date        882 non-null    object\n",
      " 11  priors_count           11757 non-null  int64 \n",
      "dtypes: int64(6), object(6)\n",
      "memory usage: 1.1+ MB\n"
     ]
    }
   ],
   "source": [
    "# Revisamos que type es cada columna.\n",
    "\n",
    "df_trabajo.info()"
   ]
  },
  {
   "cell_type": "code",
   "execution_count": 10,
   "id": "3cd23670",
   "metadata": {},
   "outputs": [
    {
     "data": {
      "text/plain": [
       "name                     11584\n",
       "age                         66\n",
       "sex                          2\n",
       "race                         6\n",
       "compas_screening_date      704\n",
       "decile_score                11\n",
       "v_decile_score              11\n",
       "is_recid                     3\n",
       "r_offense_date            1090\n",
       "is_violent_recid             2\n",
       "vr_offense_date            599\n",
       "priors_count                39\n",
       "dtype: int64"
      ]
     },
     "execution_count": 10,
     "metadata": {},
     "output_type": "execute_result"
    }
   ],
   "source": [
    "# Devuelve el número de elementos distintos a lo largo de un determinado eje.\n",
    "\n",
    "df_trabajo.nunique()"
   ]
  },
  {
   "cell_type": "code",
   "execution_count": 12,
   "id": "93883551",
   "metadata": {},
   "outputs": [
    {
     "data": {
      "text/plain": [
       "False    11038\n",
       "True       719\n",
       "Name: is_recid, dtype: int64"
      ]
     },
     "execution_count": 12,
     "metadata": {},
     "output_type": "execute_result"
    }
   ],
   "source": [
    "(df_trabajo.is_recid == -1).value_counts()"
   ]
  },
  {
   "cell_type": "code",
   "execution_count": 13,
   "id": "4268372d",
   "metadata": {},
   "outputs": [],
   "source": [
    "df_trabajo.drop(df_trabajo[df_trabajo.is_recid == -1].index, inplace=True)"
   ]
  },
  {
   "cell_type": "code",
   "execution_count": 14,
   "id": "3ca32f91",
   "metadata": {},
   "outputs": [
    {
     "data": {
      "text/plain": [
       "name                     10902\n",
       "age                         66\n",
       "sex                          2\n",
       "race                         6\n",
       "compas_screening_date      704\n",
       "decile_score                11\n",
       "v_decile_score              11\n",
       "is_recid                     2\n",
       "r_offense_date            1090\n",
       "is_violent_recid             2\n",
       "vr_offense_date            599\n",
       "priors_count                39\n",
       "dtype: int64"
      ]
     },
     "execution_count": 14,
     "metadata": {},
     "output_type": "execute_result"
    }
   ],
   "source": [
    "df_trabajo.nunique()"
   ]
  },
  {
   "cell_type": "code",
   "execution_count": 15,
   "id": "8b81056f",
   "metadata": {},
   "outputs": [
    {
     "data": {
      "text/plain": [
       "array([0], dtype=int64)"
      ]
     },
     "execution_count": 15,
     "metadata": {},
     "output_type": "execute_result"
    }
   ],
   "source": [
    "df_trabajo.is_recid[df_trabajo.r_offense_date.isnull()].unique()"
   ]
  },
  {
   "cell_type": "code",
   "execution_count": 16,
   "id": "cdd775a6",
   "metadata": {},
   "outputs": [
    {
     "data": {
      "text/plain": [
       "array([0], dtype=int64)"
      ]
     },
     "execution_count": 16,
     "metadata": {},
     "output_type": "execute_result"
    }
   ],
   "source": [
    "df_trabajo.is_violent_recid[df_trabajo.vr_offense_date.isnull()].unique()\n"
   ]
  },
  {
   "cell_type": "code",
   "execution_count": 17,
   "id": "b1c55e55",
   "metadata": {},
   "outputs": [
    {
     "name": "stdout",
     "output_type": "stream",
     "text": [
      "<class 'pandas.core.frame.DataFrame'>\n",
      "Int64Index: 11038 entries, 0 to 11756\n",
      "Data columns (total 12 columns):\n",
      " #   Column                 Non-Null Count  Dtype \n",
      "---  ------                 --------------  ----- \n",
      " 0   name                   11038 non-null  object\n",
      " 1   age                    11038 non-null  int64 \n",
      " 2   sex                    11038 non-null  object\n",
      " 3   race                   11038 non-null  object\n",
      " 4   compas_screening_date  11038 non-null  object\n",
      " 5   decile_score           11038 non-null  int64 \n",
      " 6   v_decile_score         11038 non-null  int64 \n",
      " 7   is_recid               11038 non-null  int64 \n",
      " 8   r_offense_date         3703 non-null   object\n",
      " 9   is_violent_recid       11038 non-null  int64 \n",
      " 10  vr_offense_date        882 non-null    object\n",
      " 11  priors_count           11038 non-null  int64 \n",
      "dtypes: int64(6), object(6)\n",
      "memory usage: 1.1+ MB\n"
     ]
    }
   ],
   "source": [
    "df_trabajo.info()"
   ]
  },
  {
   "cell_type": "code",
   "execution_count": 18,
   "id": "6472ed78",
   "metadata": {},
   "outputs": [
    {
     "data": {
      "text/plain": [
       "name                     10902\n",
       "age                         66\n",
       "sex                          2\n",
       "race                         6\n",
       "compas_screening_date      704\n",
       "decile_score                11\n",
       "v_decile_score              11\n",
       "is_recid                     2\n",
       "r_offense_date            1090\n",
       "is_violent_recid             2\n",
       "vr_offense_date            599\n",
       "priors_count                39\n",
       "dtype: int64"
      ]
     },
     "execution_count": 18,
     "metadata": {},
     "output_type": "execute_result"
    }
   ],
   "source": [
    "df_trabajo.nunique()"
   ]
  },
  {
   "cell_type": "code",
   "execution_count": 19,
   "id": "51d1b55c",
   "metadata": {},
   "outputs": [
    {
     "data": {
      "text/html": [
       "<div>\n",
       "<style scoped>\n",
       "    .dataframe tbody tr th:only-of-type {\n",
       "        vertical-align: middle;\n",
       "    }\n",
       "\n",
       "    .dataframe tbody tr th {\n",
       "        vertical-align: top;\n",
       "    }\n",
       "\n",
       "    .dataframe thead th {\n",
       "        text-align: right;\n",
       "    }\n",
       "</style>\n",
       "<table border=\"1\" class=\"dataframe\">\n",
       "  <thead>\n",
       "    <tr style=\"text-align: right;\">\n",
       "      <th></th>\n",
       "      <th>name</th>\n",
       "      <th>age</th>\n",
       "      <th>sex</th>\n",
       "      <th>race</th>\n",
       "      <th>compas_screening_date</th>\n",
       "      <th>decile_score</th>\n",
       "      <th>v_decile_score</th>\n",
       "      <th>is_recid</th>\n",
       "      <th>r_offense_date</th>\n",
       "      <th>is_violent_recid</th>\n",
       "      <th>vr_offense_date</th>\n",
       "      <th>priors_count</th>\n",
       "    </tr>\n",
       "  </thead>\n",
       "  <tbody>\n",
       "    <tr>\n",
       "      <th>7707</th>\n",
       "      <td>jeffrey williams</td>\n",
       "      <td>28</td>\n",
       "      <td>Male</td>\n",
       "      <td>African-American</td>\n",
       "      <td>2013-04-16</td>\n",
       "      <td>6</td>\n",
       "      <td>6</td>\n",
       "      <td>0</td>\n",
       "      <td>NaN</td>\n",
       "      <td>0</td>\n",
       "      <td>NaN</td>\n",
       "      <td>6</td>\n",
       "    </tr>\n",
       "    <tr>\n",
       "      <th>10164</th>\n",
       "      <td>jeffrey williams</td>\n",
       "      <td>28</td>\n",
       "      <td>Male</td>\n",
       "      <td>African-American</td>\n",
       "      <td>2014-06-25</td>\n",
       "      <td>2</td>\n",
       "      <td>2</td>\n",
       "      <td>1</td>\n",
       "      <td>2014-09-19</td>\n",
       "      <td>0</td>\n",
       "      <td>NaN</td>\n",
       "      <td>5</td>\n",
       "    </tr>\n",
       "    <tr>\n",
       "      <th>1004</th>\n",
       "      <td>john brown</td>\n",
       "      <td>65</td>\n",
       "      <td>Male</td>\n",
       "      <td>African-American</td>\n",
       "      <td>2014-04-11</td>\n",
       "      <td>2</td>\n",
       "      <td>1</td>\n",
       "      <td>1</td>\n",
       "      <td>2015-09-04</td>\n",
       "      <td>1</td>\n",
       "      <td>2015-09-04</td>\n",
       "      <td>2</td>\n",
       "    </tr>\n",
       "    <tr>\n",
       "      <th>11713</th>\n",
       "      <td>john brown</td>\n",
       "      <td>65</td>\n",
       "      <td>Male</td>\n",
       "      <td>African-American</td>\n",
       "      <td>2013-09-23</td>\n",
       "      <td>1</td>\n",
       "      <td>1</td>\n",
       "      <td>0</td>\n",
       "      <td>NaN</td>\n",
       "      <td>0</td>\n",
       "      <td>NaN</td>\n",
       "      <td>1</td>\n",
       "    </tr>\n",
       "    <tr>\n",
       "      <th>949</th>\n",
       "      <td>michael williams</td>\n",
       "      <td>23</td>\n",
       "      <td>Male</td>\n",
       "      <td>African-American</td>\n",
       "      <td>2013-05-24</td>\n",
       "      <td>10</td>\n",
       "      <td>8</td>\n",
       "      <td>0</td>\n",
       "      <td>NaN</td>\n",
       "      <td>0</td>\n",
       "      <td>NaN</td>\n",
       "      <td>4</td>\n",
       "    </tr>\n",
       "    <tr>\n",
       "      <th>10537</th>\n",
       "      <td>michael williams</td>\n",
       "      <td>23</td>\n",
       "      <td>Male</td>\n",
       "      <td>African-American</td>\n",
       "      <td>2013-01-26</td>\n",
       "      <td>6</td>\n",
       "      <td>6</td>\n",
       "      <td>0</td>\n",
       "      <td>NaN</td>\n",
       "      <td>0</td>\n",
       "      <td>NaN</td>\n",
       "      <td>1</td>\n",
       "    </tr>\n",
       "    <tr>\n",
       "      <th>3491</th>\n",
       "      <td>roderick thomas</td>\n",
       "      <td>23</td>\n",
       "      <td>Male</td>\n",
       "      <td>African-American</td>\n",
       "      <td>2014-03-10</td>\n",
       "      <td>7</td>\n",
       "      <td>5</td>\n",
       "      <td>0</td>\n",
       "      <td>NaN</td>\n",
       "      <td>0</td>\n",
       "      <td>NaN</td>\n",
       "      <td>3</td>\n",
       "    </tr>\n",
       "    <tr>\n",
       "      <th>7476</th>\n",
       "      <td>roderick thomas</td>\n",
       "      <td>23</td>\n",
       "      <td>Male</td>\n",
       "      <td>African-American</td>\n",
       "      <td>2013-02-12</td>\n",
       "      <td>8</td>\n",
       "      <td>5</td>\n",
       "      <td>0</td>\n",
       "      <td>NaN</td>\n",
       "      <td>0</td>\n",
       "      <td>NaN</td>\n",
       "      <td>1</td>\n",
       "    </tr>\n",
       "    <tr>\n",
       "      <th>112</th>\n",
       "      <td>troy smith</td>\n",
       "      <td>22</td>\n",
       "      <td>Male</td>\n",
       "      <td>African-American</td>\n",
       "      <td>2013-08-25</td>\n",
       "      <td>3</td>\n",
       "      <td>3</td>\n",
       "      <td>1</td>\n",
       "      <td>2014-10-06</td>\n",
       "      <td>0</td>\n",
       "      <td>NaN</td>\n",
       "      <td>1</td>\n",
       "    </tr>\n",
       "    <tr>\n",
       "      <th>2022</th>\n",
       "      <td>troy smith</td>\n",
       "      <td>22</td>\n",
       "      <td>Male</td>\n",
       "      <td>African-American</td>\n",
       "      <td>2013-03-22</td>\n",
       "      <td>7</td>\n",
       "      <td>6</td>\n",
       "      <td>0</td>\n",
       "      <td>NaN</td>\n",
       "      <td>0</td>\n",
       "      <td>NaN</td>\n",
       "      <td>4</td>\n",
       "    </tr>\n",
       "  </tbody>\n",
       "</table>\n",
       "</div>"
      ],
      "text/plain": [
       "                   name  age   sex              race compas_screening_date  \\\n",
       "7707   jeffrey williams   28  Male  African-American            2013-04-16   \n",
       "10164  jeffrey williams   28  Male  African-American            2014-06-25   \n",
       "1004         john brown   65  Male  African-American            2014-04-11   \n",
       "11713        john brown   65  Male  African-American            2013-09-23   \n",
       "949    michael williams   23  Male  African-American            2013-05-24   \n",
       "10537  michael williams   23  Male  African-American            2013-01-26   \n",
       "3491    roderick thomas   23  Male  African-American            2014-03-10   \n",
       "7476    roderick thomas   23  Male  African-American            2013-02-12   \n",
       "112          troy smith   22  Male  African-American            2013-08-25   \n",
       "2022         troy smith   22  Male  African-American            2013-03-22   \n",
       "\n",
       "       decile_score  v_decile_score  is_recid r_offense_date  \\\n",
       "7707              6               6         0            NaN   \n",
       "10164             2               2         1     2014-09-19   \n",
       "1004              2               1         1     2015-09-04   \n",
       "11713             1               1         0            NaN   \n",
       "949              10               8         0            NaN   \n",
       "10537             6               6         0            NaN   \n",
       "3491              7               5         0            NaN   \n",
       "7476              8               5         0            NaN   \n",
       "112               3               3         1     2014-10-06   \n",
       "2022              7               6         0            NaN   \n",
       "\n",
       "       is_violent_recid vr_offense_date  priors_count  \n",
       "7707                  0             NaN             6  \n",
       "10164                 0             NaN             5  \n",
       "1004                  1      2015-09-04             2  \n",
       "11713                 0             NaN             1  \n",
       "949                   0             NaN             4  \n",
       "10537                 0             NaN             1  \n",
       "3491                  0             NaN             3  \n",
       "7476                  0             NaN             1  \n",
       "112                   0             NaN             1  \n",
       "2022                  0             NaN             4  "
      ]
     },
     "execution_count": 19,
     "metadata": {},
     "output_type": "execute_result"
    }
   ],
   "source": [
    "# Vemos los nombres y apellidos que están duplicados.\n",
    "\n",
    "df_trabajo[df_trabajo.duplicated(['name','age'], keep=False)].sort_values(by = 'name')"
   ]
  },
  {
   "cell_type": "code",
   "execution_count": 20,
   "id": "570a26d1",
   "metadata": {},
   "outputs": [],
   "source": [
    "# Convertimos los tipos.\n",
    "\n",
    "df_trabajo['name'] = df_trabajo['name'].astype('string')\n",
    "df_trabajo['sex'] = df_trabajo['sex'].astype('category')\n",
    "df_trabajo['race'] = df_trabajo['race'].astype('category')\n",
    "df_trabajo['is_recid'] = df_trabajo['is_recid'].astype('category')\n",
    "df_trabajo['is_violent_recid'] = df_trabajo['is_violent_recid'].astype('category')\n",
    "df_trabajo['compas_screening_date'] = pd.to_datetime(df_trabajo['compas_screening_date'])\n",
    "df_trabajo['r_offense_date'] = pd.to_datetime(df_trabajo['r_offense_date'])\n",
    "df_trabajo['vr_offense_date'] = pd.to_datetime(df_trabajo['vr_offense_date'])"
   ]
  },
  {
   "cell_type": "code",
   "execution_count": 21,
   "id": "294654e8",
   "metadata": {},
   "outputs": [
    {
     "name": "stdout",
     "output_type": "stream",
     "text": [
      "<class 'pandas.core.frame.DataFrame'>\n",
      "Int64Index: 11038 entries, 0 to 11756\n",
      "Data columns (total 12 columns):\n",
      " #   Column                 Non-Null Count  Dtype         \n",
      "---  ------                 --------------  -----         \n",
      " 0   name                   11038 non-null  string        \n",
      " 1   age                    11038 non-null  int64         \n",
      " 2   sex                    11038 non-null  category      \n",
      " 3   race                   11038 non-null  category      \n",
      " 4   compas_screening_date  11038 non-null  datetime64[ns]\n",
      " 5   decile_score           11038 non-null  int64         \n",
      " 6   v_decile_score         11038 non-null  int64         \n",
      " 7   is_recid               11038 non-null  category      \n",
      " 8   r_offense_date         3703 non-null   datetime64[ns]\n",
      " 9   is_violent_recid       11038 non-null  category      \n",
      " 10  vr_offense_date        882 non-null    datetime64[ns]\n",
      " 11  priors_count           11038 non-null  int64         \n",
      "dtypes: category(4), datetime64[ns](3), int64(4), string(1)\n",
      "memory usage: 819.8 KB\n"
     ]
    }
   ],
   "source": [
    "# Revisamos si las conversiones se han realizado de manera satisfactoria.\n",
    "\n",
    "df_trabajo.info()"
   ]
  },
  {
   "cell_type": "code",
   "execution_count": 22,
   "id": "732ef605",
   "metadata": {},
   "outputs": [
    {
     "data": {
      "text/html": [
       "<div>\n",
       "<style scoped>\n",
       "    .dataframe tbody tr th:only-of-type {\n",
       "        vertical-align: middle;\n",
       "    }\n",
       "\n",
       "    .dataframe tbody tr th {\n",
       "        vertical-align: top;\n",
       "    }\n",
       "\n",
       "    .dataframe thead th {\n",
       "        text-align: right;\n",
       "    }\n",
       "</style>\n",
       "<table border=\"1\" class=\"dataframe\">\n",
       "  <thead>\n",
       "    <tr style=\"text-align: right;\">\n",
       "      <th></th>\n",
       "      <th>name</th>\n",
       "      <th>age</th>\n",
       "      <th>sex</th>\n",
       "      <th>race</th>\n",
       "      <th>compas_screening_date</th>\n",
       "      <th>decile_score</th>\n",
       "      <th>v_decile_score</th>\n",
       "      <th>is_recid</th>\n",
       "      <th>r_offense_date</th>\n",
       "      <th>is_violent_recid</th>\n",
       "      <th>vr_offense_date</th>\n",
       "      <th>priors_count</th>\n",
       "    </tr>\n",
       "  </thead>\n",
       "  <tbody>\n",
       "    <tr>\n",
       "      <th>0</th>\n",
       "      <td>miguel hernandez</td>\n",
       "      <td>69</td>\n",
       "      <td>Male</td>\n",
       "      <td>Other</td>\n",
       "      <td>2013-08-14</td>\n",
       "      <td>1</td>\n",
       "      <td>1</td>\n",
       "      <td>0</td>\n",
       "      <td>NaT</td>\n",
       "      <td>0</td>\n",
       "      <td>NaT</td>\n",
       "      <td>0</td>\n",
       "    </tr>\n",
       "    <tr>\n",
       "      <th>2</th>\n",
       "      <td>kevon dixon</td>\n",
       "      <td>34</td>\n",
       "      <td>Male</td>\n",
       "      <td>African-American</td>\n",
       "      <td>2013-01-27</td>\n",
       "      <td>3</td>\n",
       "      <td>1</td>\n",
       "      <td>1</td>\n",
       "      <td>2013-07-05</td>\n",
       "      <td>1</td>\n",
       "      <td>2013-07-05</td>\n",
       "      <td>0</td>\n",
       "    </tr>\n",
       "    <tr>\n",
       "      <th>3</th>\n",
       "      <td>ed philo</td>\n",
       "      <td>24</td>\n",
       "      <td>Male</td>\n",
       "      <td>African-American</td>\n",
       "      <td>2013-04-14</td>\n",
       "      <td>4</td>\n",
       "      <td>3</td>\n",
       "      <td>1</td>\n",
       "      <td>2013-06-16</td>\n",
       "      <td>0</td>\n",
       "      <td>NaT</td>\n",
       "      <td>4</td>\n",
       "    </tr>\n",
       "    <tr>\n",
       "      <th>4</th>\n",
       "      <td>marcu brown</td>\n",
       "      <td>23</td>\n",
       "      <td>Male</td>\n",
       "      <td>African-American</td>\n",
       "      <td>2013-01-13</td>\n",
       "      <td>8</td>\n",
       "      <td>6</td>\n",
       "      <td>0</td>\n",
       "      <td>NaT</td>\n",
       "      <td>0</td>\n",
       "      <td>NaT</td>\n",
       "      <td>1</td>\n",
       "    </tr>\n",
       "    <tr>\n",
       "      <th>5</th>\n",
       "      <td>bouthy pierrelouis</td>\n",
       "      <td>43</td>\n",
       "      <td>Male</td>\n",
       "      <td>Other</td>\n",
       "      <td>2013-03-26</td>\n",
       "      <td>1</td>\n",
       "      <td>1</td>\n",
       "      <td>0</td>\n",
       "      <td>NaT</td>\n",
       "      <td>0</td>\n",
       "      <td>NaT</td>\n",
       "      <td>2</td>\n",
       "    </tr>\n",
       "  </tbody>\n",
       "</table>\n",
       "</div>"
      ],
      "text/plain": [
       "                 name  age   sex              race compas_screening_date  \\\n",
       "0    miguel hernandez   69  Male             Other            2013-08-14   \n",
       "2         kevon dixon   34  Male  African-American            2013-01-27   \n",
       "3            ed philo   24  Male  African-American            2013-04-14   \n",
       "4         marcu brown   23  Male  African-American            2013-01-13   \n",
       "5  bouthy pierrelouis   43  Male             Other            2013-03-26   \n",
       "\n",
       "   decile_score  v_decile_score is_recid r_offense_date is_violent_recid  \\\n",
       "0             1               1        0            NaT                0   \n",
       "2             3               1        1     2013-07-05                1   \n",
       "3             4               3        1     2013-06-16                0   \n",
       "4             8               6        0            NaT                0   \n",
       "5             1               1        0            NaT                0   \n",
       "\n",
       "  vr_offense_date  priors_count  \n",
       "0             NaT             0  \n",
       "2      2013-07-05             0  \n",
       "3             NaT             4  \n",
       "4             NaT             1  \n",
       "5             NaT             2  "
      ]
     },
     "execution_count": 22,
     "metadata": {},
     "output_type": "execute_result"
    }
   ],
   "source": [
    "df_trabajo.head()"
   ]
  },
  {
   "cell_type": "code",
   "execution_count": 25,
   "id": "78afa5b6",
   "metadata": {},
   "outputs": [],
   "source": [
    "# 2 - ¿Son los campos “is_recid” e “is_violent_recid” en este conjunto de datos adecuados para evaluar la precisión de las estimaciones de riesgo generadas por elsistema COMPAS? Si no es así, deﬁnir y calcular una feature que sí lo sea.\n",
    "\n",
    "cm =pd.crosstab(df_trabajo.is_recid==1, df_trabajo.decile_score>=7, rownames=['prediccion'],colnames=['real'])\n",
    "from statsmodels.formula.api import ols\n"
   ]
  },
  {
   "cell_type": "code",
   "execution_count": 26,
   "id": "dbca754f",
   "metadata": {},
   "outputs": [],
   "source": [
    "df_trabajo = df_trabajo[(df_trabajo.is_recid == 1) & (df_trabajo.decile_score >= 7)]"
   ]
  },
  {
   "cell_type": "code",
   "execution_count": 27,
   "id": "01102250",
   "metadata": {},
   "outputs": [],
   "source": [
    "ﬁt_decile_score = ols('decile_score ~ age + priors_count + C(sex) + C(race) + C(is_recid) +C(is_violent_recid)', data=df_trabajo).ﬁt()"
   ]
  },
  {
   "cell_type": "code",
   "execution_count": 28,
   "id": "5f9010c7",
   "metadata": {},
   "outputs": [
    {
     "name": "stdout",
     "output_type": "stream",
     "text": [
      "                            OLS Regression Results                            \n",
      "==============================================================================\n",
      "Dep. Variable:           decile_score   R-squared:                       0.068\n",
      "Model:                            OLS   Adj. R-squared:                  0.062\n",
      "Method:                 Least Squares   F-statistic:                     12.10\n",
      "Date:                Fri, 22 Mar 2024   Prob (F-statistic):           1.28e-18\n",
      "Time:                        11:35:48   Log-Likelihood:                -2219.4\n",
      "No. Observations:                1503   AIC:                             4459.\n",
      "Df Residuals:                    1493   BIC:                             4512.\n",
      "Df Model:                           9                                         \n",
      "Covariance Type:            nonrobust                                         \n",
      "==============================================================================================\n",
      "                                 coef    std err          t      P>|t|      [0.025      0.975]\n",
      "----------------------------------------------------------------------------------------------\n",
      "Intercept                      4.4783      0.062     72.093      0.000       4.356       4.600\n",
      "C(sex)[T.Male]                 0.0539      0.082      0.656      0.512      -0.107       0.215\n",
      "C(race)[T.Asian]               0.0303      0.533      0.057      0.955      -1.016       1.076\n",
      "C(race)[T.Caucasian]          -0.1531      0.070     -2.182      0.029      -0.291      -0.015\n",
      "C(race)[T.Hispanic]           -0.0303      0.141     -0.214      0.830      -0.307       0.247\n",
      "C(race)[T.Native American]     0.0458      0.357      0.128      0.898      -0.654       0.745\n",
      "C(race)[T.Other]               0.0048      0.208      0.023      0.981      -0.403       0.412\n",
      "C(is_recid)[T.1]               4.4783      0.062     72.093      0.000       4.356       4.600\n",
      "C(is_violent_recid)[T.1]       0.0794      0.062      1.285      0.199      -0.042       0.201\n",
      "age                           -0.0284      0.004     -8.081      0.000      -0.035      -0.022\n",
      "priors_count                   0.0393      0.005      8.277      0.000       0.030       0.049\n",
      "==============================================================================\n",
      "Omnibus:                      719.564   Durbin-Watson:                   2.001\n",
      "Prob(Omnibus):                  0.000   Jarque-Bera (JB):               81.160\n",
      "Skew:                           0.048   Prob(JB):                     2.38e-18\n",
      "Kurtosis:                       1.866   Cond. No.                     2.26e+17\n",
      "==============================================================================\n",
      "\n",
      "Notes:\n",
      "[1] Standard Errors assume that the covariance matrix of the errors is correctly specified.\n",
      "[2] The smallest eigenvalue is 3.06e-29. This might indicate that there are\n",
      "strong multicollinearity problems or that the design matrix is singular.\n"
     ]
    }
   ],
   "source": [
    "print(ﬁt_decile_score.summary()) # Escribiremos C si la variable es categórica."
   ]
  },
  {
   "cell_type": "code",
   "execution_count": 29,
   "id": "ded2a4ed",
   "metadata": {},
   "outputs": [],
   "source": [
    "# 3 - El umbral para establecer medidas preventivas de la reincidencia es de 7 en adelante. Dado este umbral, generar una tabla de contingencia, explicando qué caso se considera como “positivo” (y, por lo tanto, cuáles son los errores de tipo I y los errores de tipo II).\n",
    "\n",
    "# 3.1 Con este comando hacemos una predicción del valor de decile_score a partir de los que hemos realizado antes.\n",
    "\n",
    "prediccion = ﬁt_decile_score.predict(df_trabajo)"
   ]
  },
  {
   "cell_type": "code",
   "execution_count": 30,
   "id": "aab2cfdf",
   "metadata": {},
   "outputs": [],
   "source": [
    "cm = pd.crosstab(prediccion>=7, df_trabajo.decile_score>=7, rownames=['prediccion'],colnames=['real'])"
   ]
  },
  {
   "cell_type": "code",
   "execution_count": 33,
   "id": "c9243684",
   "metadata": {},
   "outputs": [
    {
     "data": {
      "text/html": [
       "<div>\n",
       "<style scoped>\n",
       "    .dataframe tbody tr th:only-of-type {\n",
       "        vertical-align: middle;\n",
       "    }\n",
       "\n",
       "    .dataframe tbody tr th {\n",
       "        vertical-align: top;\n",
       "    }\n",
       "\n",
       "    .dataframe thead th {\n",
       "        text-align: right;\n",
       "    }\n",
       "</style>\n",
       "<table border=\"1\" class=\"dataframe\">\n",
       "  <thead>\n",
       "    <tr style=\"text-align: right;\">\n",
       "      <th>real</th>\n",
       "      <th>True</th>\n",
       "    </tr>\n",
       "    <tr>\n",
       "      <th>prediccion</th>\n",
       "      <th></th>\n",
       "    </tr>\n",
       "  </thead>\n",
       "  <tbody>\n",
       "    <tr>\n",
       "      <th>True</th>\n",
       "      <td>1503</td>\n",
       "    </tr>\n",
       "  </tbody>\n",
       "</table>\n",
       "</div>"
      ],
      "text/plain": [
       "real        True\n",
       "prediccion      \n",
       "True        1503"
      ]
     },
     "execution_count": 33,
     "metadata": {},
     "output_type": "execute_result"
    }
   ],
   "source": [
    "cm"
   ]
  },
  {
   "cell_type": "code",
   "execution_count": 35,
   "id": "099da48e",
   "metadata": {},
   "outputs": [],
   "source": [
    "from sklearn.metrics import classiﬁcation_report"
   ]
  },
  {
   "cell_type": "code",
   "execution_count": 36,
   "id": "40262603",
   "metadata": {},
   "outputs": [
    {
     "name": "stdout",
     "output_type": "stream",
     "text": [
      "              precision    recall  f1-score   support\n",
      "\n",
      "        True       1.00      1.00      1.00      1503\n",
      "\n",
      "    accuracy                           1.00      1503\n",
      "   macro avg       1.00      1.00      1.00      1503\n",
      "weighted avg       1.00      1.00      1.00      1503\n",
      "\n"
     ]
    }
   ],
   "source": [
    "print(classiﬁcation_report(df_trabajo.decile_score>=7, prediccion>=7))"
   ]
  },
  {
   "cell_type": "code",
   "execution_count": 37,
   "id": "91757b04",
   "metadata": {},
   "outputs": [],
   "source": [
    "# 4 - El sistema asigna, de media, evaluaciones de riesgo más altas a los hombres que a las mujeres, y a las personas de raza afroamericana que a las de raza caucásica. Sin embargo, también las tasas de reincidencia son más altas para esos colectivos, aunque no está claro que la asignación de riesgo sea “justa” o no. Mostrar estas diferencias mediante representaciones gráficas y utilizarlas para analizar si la asignación de evaluaciones es justa o no.\n",
    "\n",
    "# Se eliminan valores -1 de decile_score y v_decile_score para graﬁcar y ser más consistente.\n",
    "\n",
    "df_trabajo = df_trabajo.drop(df_trabajo[df_trabajo['v_decile_score']==-1].index)\n",
    "df_trabajo = df_trabajo.drop(df_trabajo[df_trabajo['decile_score']==-1].index)"
   ]
  },
  {
   "cell_type": "code",
   "execution_count": 38,
   "id": "b8249d51",
   "metadata": {},
   "outputs": [],
   "source": [
    "import matplotlib.pyplot as plt"
   ]
  },
  {
   "cell_type": "code",
   "execution_count": 46,
   "id": "1c750975",
   "metadata": {},
   "outputs": [
    {
     "data": {
      "image/png": "[encoded data removed]",
      "text/plain": [
       "<Figure size 1400x800 with 3 Axes>"
      ]
     },
     "metadata": {},
     "output_type": "display_data"
    }
   ],
   "source": [
    "# Primera visualización: RACE\n",
    "\n",
    "df_final = df_trabajo.groupby(\"race\")\n",
    "race_count = df_trabajo.groupby(\"race\")[\"name\"].count()\n",
    "\n",
    "ﬁg, ax = plt.subplots(3, ﬁgsize=(14, 8))\n",
    "\n",
    "for (i, race) in enumerate([\"African-American\", \"Caucasian\", \"Hispanic\"]):\n",
    "    \n",
    "    (df_final.get_group(race).groupby(\"decile_score\")[\"name\"].count() / race_count[race]).plot(kind=\"bar\", ax=ax[i], color=\"pink\")\n",
    "    ax[i].set_ylabel(race)\n",
    "    ax[i].set_xlabel(\"\")\n",
    "    ax[i].set_ylim(0, 0.32)\n",
    "    ﬁg.suptitle(\"Score Frequency by Race\")\n",
    "    plt.show()\n",
    "    "
   ]
  },
  {
   "cell_type": "code",
   "execution_count": 50,
   "id": "eba1ef40",
   "metadata": {},
   "outputs": [
    {
     "name": "stderr",
     "output_type": "stream",
     "text": [
      "C:\\Users\\USER\\AppData\\Local\\Temp\\ipykernel_13196\\2427213354.py:14: UserWarning: Attempting to set identical low and high ylims makes transformation singular; automatically expanding.\n",
      "  ax[i].set_ylim(0, 0.)\n"
     ]
    },
    {
     "data": {
      "image/png": "[encoded data removed]",
      "text/plain": [
       "<Figure size 1400x800 with 2 Axes>"
      ]
     },
     "metadata": {},
     "output_type": "display_data"
    }
   ],
   "source": [
    "# Segunda visualización: SEX\n",
    "\n",
    "df_final = df_trabajo.groupby(\"sex\")\n",
    "race_count = df_trabajo.groupby(\"sex\")[\"name\"].count()\n",
    "\n",
    "ﬁg, ax = plt.subplots(2, ﬁgsize=(14, 8))\n",
    "\n",
    "for (i, sex) in enumerate([\"Male\", \"Female\"]):\n",
    "    \n",
    "    (df_final.get_group(sex).groupby(\"decile_score\")[\"name\"].count()).plot(kind=\"bar\", ax=ax[i], color=\"blue\")\n",
    "\n",
    "ax[i].set_ylabel(sex)\n",
    "ax[i].set_xlabel(\"\")\n",
    "ax[i].set_ylim(0, 0.)\n",
    "\n",
    "ﬁg.suptitle(\"Score Frequency by Sex\")\n",
    "\n",
    "plt.show()\n"
   ]
  },
  {
   "cell_type": "code",
   "execution_count": 52,
   "id": "0cd3d9ef",
   "metadata": {},
   "outputs": [],
   "source": [
    "# 5 - ¿Para qué tipo de riesgos, el de delitos generales o el de delitos violentos, tiene el sistema más capacidad predictiva?\n",
    "\n",
    "# Aquí vamos a repetir lo que hemos hecho antes para decile_score pero para v_decile_score\n",
    "\n",
    "ﬁt_v_decile_score = ols('v_decile_score ~ age + priors_count + C(sex) + C(race) + C(is_recid) + C(is_violent_recid)', data=df_trabajo).ﬁt()"
   ]
  },
  {
   "cell_type": "code",
   "execution_count": 53,
   "id": "977c4901",
   "metadata": {},
   "outputs": [
    {
     "name": "stdout",
     "output_type": "stream",
     "text": [
      "                            OLS Regression Results                            \n",
      "==============================================================================\n",
      "Dep. Variable:         v_decile_score   R-squared:                       0.268\n",
      "Model:                            OLS   Adj. R-squared:                  0.264\n",
      "Method:                 Least Squares   F-statistic:                     60.80\n",
      "Date:                Fri, 22 Mar 2024   Prob (F-statistic):           5.80e-95\n",
      "Time:                        12:08:35   Log-Likelihood:                -3127.1\n",
      "No. Observations:                1503   AIC:                             6274.\n",
      "Df Residuals:                    1493   BIC:                             6327.\n",
      "Df Model:                           9                                         \n",
      "Covariance Type:            nonrobust                                         \n",
      "==============================================================================================\n",
      "                                 coef    std err          t      P>|t|      [0.025      0.975]\n",
      "----------------------------------------------------------------------------------------------\n",
      "Intercept                      4.5918      0.114     40.411      0.000       4.369       4.815\n",
      "C(sex)[T.Male]                 0.8550      0.150      5.684      0.000       0.560       1.150\n",
      "C(race)[T.Asian]              -0.6587      0.976     -0.675      0.500      -2.572       1.255\n",
      "C(race)[T.Caucasian]          -0.5534      0.128     -4.311      0.000      -0.805      -0.302\n",
      "C(race)[T.Hispanic]            0.2013      0.259      0.779      0.436      -0.306       0.708\n",
      "C(race)[T.Native American]     0.3086      0.653      0.473      0.636      -0.971       1.589\n",
      "C(race)[T.Other]              -0.8017      0.380     -2.110      0.035      -1.547      -0.056\n",
      "C(is_recid)[T.1]               4.5918      0.114     40.411      0.000       4.369       4.815\n",
      "C(is_violent_recid)[T.1]       0.4065      0.113      3.595      0.000       0.185       0.628\n",
      "age                           -0.1249      0.006    -19.422      0.000      -0.138      -0.112\n",
      "priors_count                   0.0244      0.009      2.813      0.005       0.007       0.041\n",
      "==============================================================================\n",
      "Omnibus:                       37.833   Durbin-Watson:                   2.034\n",
      "Prob(Omnibus):                  0.000   Jarque-Bera (JB):               20.328\n",
      "Skew:                          -0.076   Prob(JB):                     3.85e-05\n",
      "Kurtosis:                       2.451   Cond. No.                     2.26e+17\n",
      "==============================================================================\n",
      "\n",
      "Notes:\n",
      "[1] Standard Errors assume that the covariance matrix of the errors is correctly specified.\n",
      "[2] The smallest eigenvalue is 3.06e-29. This might indicate that there are\n",
      "strong multicollinearity problems or that the design matrix is singular.\n"
     ]
    }
   ],
   "source": [
    "# Escribiremos C() si la variable es categórica.\n",
    "\n",
    "print(ﬁt_v_decile_score.summary())"
   ]
  },
  {
   "cell_type": "code",
   "execution_count": 54,
   "id": "40124d62",
   "metadata": {},
   "outputs": [],
   "source": [
    "# Con este comando se hace una predicción del valor de decile_score a partir de los quehemos indicado antes.\n",
    "\n",
    "vprediccion = ﬁt_v_decile_score.predict(df_trabajo)"
   ]
  },
  {
   "cell_type": "code",
   "execution_count": 56,
   "id": "dda020d9",
   "metadata": {},
   "outputs": [],
   "source": [
    "# Generamos la tabla de contingencia, comparando los casos en los que se predice.\n",
    "\n",
    "# Un valor mayor que 7, con aquellos en los que realmente es mayor que 7.\n",
    "\n",
    "cm = pd.crosstab(vprediccion>=7, df_trabajo.v_decile_score>=7, rownames=['prediccion'],colnames=['real'])"
   ]
  },
  {
   "cell_type": "code",
   "execution_count": 57,
   "id": "ca2edc41",
   "metadata": {},
   "outputs": [
    {
     "data": {
      "text/html": [
       "<div>\n",
       "<style scoped>\n",
       "    .dataframe tbody tr th:only-of-type {\n",
       "        vertical-align: middle;\n",
       "    }\n",
       "\n",
       "    .dataframe tbody tr th {\n",
       "        vertical-align: top;\n",
       "    }\n",
       "\n",
       "    .dataframe thead th {\n",
       "        text-align: right;\n",
       "    }\n",
       "</style>\n",
       "<table border=\"1\" class=\"dataframe\">\n",
       "  <thead>\n",
       "    <tr style=\"text-align: right;\">\n",
       "      <th>real</th>\n",
       "      <th>False</th>\n",
       "      <th>True</th>\n",
       "    </tr>\n",
       "    <tr>\n",
       "      <th>prediccion</th>\n",
       "      <th></th>\n",
       "      <th></th>\n",
       "    </tr>\n",
       "  </thead>\n",
       "  <tbody>\n",
       "    <tr>\n",
       "      <th>False</th>\n",
       "      <td>619</td>\n",
       "      <td>368</td>\n",
       "    </tr>\n",
       "    <tr>\n",
       "      <th>True</th>\n",
       "      <td>130</td>\n",
       "      <td>386</td>\n",
       "    </tr>\n",
       "  </tbody>\n",
       "</table>\n",
       "</div>"
      ],
      "text/plain": [
       "real        False  True \n",
       "prediccion              \n",
       "False         619    368\n",
       "True          130    386"
      ]
     },
     "execution_count": 57,
     "metadata": {},
     "output_type": "execute_result"
    }
   ],
   "source": [
    "cm"
   ]
  },
  {
   "cell_type": "code",
   "execution_count": 59,
   "id": "0f46fbf7",
   "metadata": {},
   "outputs": [
    {
     "name": "stdout",
     "output_type": "stream",
     "text": [
      "              precision    recall  f1-score   support\n",
      "\n",
      "       False       0.63      0.83      0.71       749\n",
      "        True       0.75      0.51      0.61       754\n",
      "\n",
      "    accuracy                           0.67      1503\n",
      "   macro avg       0.69      0.67      0.66      1503\n",
      "weighted avg       0.69      0.67      0.66      1503\n",
      "\n"
     ]
    }
   ],
   "source": [
    "print(classiﬁcation_report(df_trabajo.v_decile_score>=7, vprediccion>=7))"
   ]
  }
 ],
 "metadata": {
  "kernelspec": {
   "display_name": "Python 3 (ipykernel)",
   "language": "python",
   "name": "python3"
  },
  "language_info": {
   "codemirror_mode": {
    "name": "ipython",
    "version": 3
   },
   "file_extension": ".py",
   "mimetype": "text/x-python",
   "name": "python",
   "nbconvert_exporter": "python",
   "pygments_lexer": "ipython3",
   "version": "3.11.4"
  }
 },
 "nbformat": 4,
 "nbformat_minor": 5
}
